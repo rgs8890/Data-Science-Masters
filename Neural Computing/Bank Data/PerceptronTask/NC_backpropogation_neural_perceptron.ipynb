{
  "cells": [
    {
      "cell_type": "markdown",
      "metadata": {
        "id": "40401743"
      },
      "source": [
        "# Standard Backpropogation Algorithm"
      ],
      "id": "40401743"
    },
    {
      "cell_type": "markdown",
      "metadata": {
        "id": "Lf-6040K-V5i"
      },
      "source": [
        "Hidden layer trained by backpropagation"
      ],
      "id": "Lf-6040K-V5i"
    },
    {
      "cell_type": "code",
      "execution_count": null,
      "metadata": {
        "id": "af966160"
      },
      "outputs": [],
      "source": [
        "from sklearn.datasets import fetch_openml\n",
        "from sklearn.model_selection import train_test_split\n",
        "\n",
        "import numpy as np\n",
        "import seaborn as sns\n",
        "import matplotlib.pyplot as plt\n",
        "import matplotlib.gridspec as gridspec\n",
        "\n",
        "import pandas as pd\n",
        "import time\n",
        "\n",
        "import os\n",
        "import scipy as sp\n",
        "\n",
        "import torch\n",
        "import torch.nn\n",
        "import torchvision.transforms as transforms\n",
        "from torch.utils.data import DataLoader, TensorDataset"
      ],
      "id": "af966160"
    },
    {
      "cell_type": "code",
      "execution_count": null,
      "metadata": {
        "colab": {
          "base_uri": "https://localhost:8080/"
        },
        "id": "RCW1bpBdUJXT",
        "outputId": "9dc6fd06-59a7-4e46-b055-f757f696c65a"
      },
      "outputs": [
        {
          "output_type": "stream",
          "name": "stdout",
          "text": [
            "Mounted at /content/drive\n"
          ]
        }
      ],
      "source": [
        "from google.colab import drive\n",
        "drive.mount('/content/drive')"
      ],
      "id": "RCW1bpBdUJXT"
    },
    {
      "cell_type": "code",
      "execution_count": null,
      "metadata": {
        "colab": {
          "base_uri": "https://localhost:8080/",
          "height": 328
        },
        "id": "Z_ujFNUsUoS_",
        "outputId": "d5cce254-b4b1-40bb-f790-18b56bb85246"
      },
      "outputs": [
        {
          "output_type": "error",
          "ename": "FileNotFoundError",
          "evalue": "ignored",
          "traceback": [
            "\u001b[0;31m---------------------------------------------------------------------------\u001b[0m",
            "\u001b[0;31mFileNotFoundError\u001b[0m                         Traceback (most recent call last)",
            "\u001b[0;32m<ipython-input-3-e10cb86ea326>\u001b[0m in \u001b[0;36m<cell line: 1>\u001b[0;34m()\u001b[0m\n\u001b[0;32m----> 1\u001b[0;31m \u001b[0mbank_df\u001b[0m \u001b[0;34m=\u001b[0m \u001b[0mpd\u001b[0m\u001b[0;34m.\u001b[0m\u001b[0mread_csv\u001b[0m\u001b[0;34m(\u001b[0m\u001b[0;34m'/content/drive/MyDrive/Neural Computing Coursework/bank_data_preprocessed.csv'\u001b[0m\u001b[0;34m)\u001b[0m\u001b[0;34m\u001b[0m\u001b[0;34m\u001b[0m\u001b[0m\n\u001b[0m\u001b[1;32m      2\u001b[0m \u001b[0mbank_df\u001b[0m\u001b[0;34m\u001b[0m\u001b[0;34m\u001b[0m\u001b[0m\n",
            "\u001b[0;32m/usr/local/lib/python3.9/dist-packages/pandas/util/_decorators.py\u001b[0m in \u001b[0;36mwrapper\u001b[0;34m(*args, **kwargs)\u001b[0m\n\u001b[1;32m    309\u001b[0m                     \u001b[0mstacklevel\u001b[0m\u001b[0;34m=\u001b[0m\u001b[0mstacklevel\u001b[0m\u001b[0;34m,\u001b[0m\u001b[0;34m\u001b[0m\u001b[0;34m\u001b[0m\u001b[0m\n\u001b[1;32m    310\u001b[0m                 )\n\u001b[0;32m--> 311\u001b[0;31m             \u001b[0;32mreturn\u001b[0m \u001b[0mfunc\u001b[0m\u001b[0;34m(\u001b[0m\u001b[0;34m*\u001b[0m\u001b[0margs\u001b[0m\u001b[0;34m,\u001b[0m \u001b[0;34m**\u001b[0m\u001b[0mkwargs\u001b[0m\u001b[0;34m)\u001b[0m\u001b[0;34m\u001b[0m\u001b[0;34m\u001b[0m\u001b[0m\n\u001b[0m\u001b[1;32m    312\u001b[0m \u001b[0;34m\u001b[0m\u001b[0m\n\u001b[1;32m    313\u001b[0m         \u001b[0;32mreturn\u001b[0m \u001b[0mwrapper\u001b[0m\u001b[0;34m\u001b[0m\u001b[0;34m\u001b[0m\u001b[0m\n",
            "\u001b[0;32m/usr/local/lib/python3.9/dist-packages/pandas/io/parsers/readers.py\u001b[0m in \u001b[0;36mread_csv\u001b[0;34m(filepath_or_buffer, sep, delimiter, header, names, index_col, usecols, squeeze, prefix, mangle_dupe_cols, dtype, engine, converters, true_values, false_values, skipinitialspace, skiprows, skipfooter, nrows, na_values, keep_default_na, na_filter, verbose, skip_blank_lines, parse_dates, infer_datetime_format, keep_date_col, date_parser, dayfirst, cache_dates, iterator, chunksize, compression, thousands, decimal, lineterminator, quotechar, quoting, doublequote, escapechar, comment, encoding, encoding_errors, dialect, error_bad_lines, warn_bad_lines, on_bad_lines, delim_whitespace, low_memory, memory_map, float_precision, storage_options)\u001b[0m\n\u001b[1;32m    676\u001b[0m     \u001b[0mkwds\u001b[0m\u001b[0;34m.\u001b[0m\u001b[0mupdate\u001b[0m\u001b[0;34m(\u001b[0m\u001b[0mkwds_defaults\u001b[0m\u001b[0;34m)\u001b[0m\u001b[0;34m\u001b[0m\u001b[0;34m\u001b[0m\u001b[0m\n\u001b[1;32m    677\u001b[0m \u001b[0;34m\u001b[0m\u001b[0m\n\u001b[0;32m--> 678\u001b[0;31m     \u001b[0;32mreturn\u001b[0m \u001b[0m_read\u001b[0m\u001b[0;34m(\u001b[0m\u001b[0mfilepath_or_buffer\u001b[0m\u001b[0;34m,\u001b[0m \u001b[0mkwds\u001b[0m\u001b[0;34m)\u001b[0m\u001b[0;34m\u001b[0m\u001b[0;34m\u001b[0m\u001b[0m\n\u001b[0m\u001b[1;32m    679\u001b[0m \u001b[0;34m\u001b[0m\u001b[0m\n\u001b[1;32m    680\u001b[0m \u001b[0;34m\u001b[0m\u001b[0m\n",
            "\u001b[0;32m/usr/local/lib/python3.9/dist-packages/pandas/io/parsers/readers.py\u001b[0m in \u001b[0;36m_read\u001b[0;34m(filepath_or_buffer, kwds)\u001b[0m\n\u001b[1;32m    573\u001b[0m \u001b[0;34m\u001b[0m\u001b[0m\n\u001b[1;32m    574\u001b[0m     \u001b[0;31m# Create the parser.\u001b[0m\u001b[0;34m\u001b[0m\u001b[0;34m\u001b[0m\u001b[0m\n\u001b[0;32m--> 575\u001b[0;31m     \u001b[0mparser\u001b[0m \u001b[0;34m=\u001b[0m \u001b[0mTextFileReader\u001b[0m\u001b[0;34m(\u001b[0m\u001b[0mfilepath_or_buffer\u001b[0m\u001b[0;34m,\u001b[0m \u001b[0;34m**\u001b[0m\u001b[0mkwds\u001b[0m\u001b[0;34m)\u001b[0m\u001b[0;34m\u001b[0m\u001b[0;34m\u001b[0m\u001b[0m\n\u001b[0m\u001b[1;32m    576\u001b[0m \u001b[0;34m\u001b[0m\u001b[0m\n\u001b[1;32m    577\u001b[0m     \u001b[0;32mif\u001b[0m \u001b[0mchunksize\u001b[0m \u001b[0;32mor\u001b[0m \u001b[0miterator\u001b[0m\u001b[0;34m:\u001b[0m\u001b[0;34m\u001b[0m\u001b[0;34m\u001b[0m\u001b[0m\n",
            "\u001b[0;32m/usr/local/lib/python3.9/dist-packages/pandas/io/parsers/readers.py\u001b[0m in \u001b[0;36m__init__\u001b[0;34m(self, f, engine, **kwds)\u001b[0m\n\u001b[1;32m    930\u001b[0m \u001b[0;34m\u001b[0m\u001b[0m\n\u001b[1;32m    931\u001b[0m         \u001b[0mself\u001b[0m\u001b[0;34m.\u001b[0m\u001b[0mhandles\u001b[0m\u001b[0;34m:\u001b[0m \u001b[0mIOHandles\u001b[0m \u001b[0;34m|\u001b[0m \u001b[0;32mNone\u001b[0m \u001b[0;34m=\u001b[0m \u001b[0;32mNone\u001b[0m\u001b[0;34m\u001b[0m\u001b[0;34m\u001b[0m\u001b[0m\n\u001b[0;32m--> 932\u001b[0;31m         \u001b[0mself\u001b[0m\u001b[0;34m.\u001b[0m\u001b[0m_engine\u001b[0m \u001b[0;34m=\u001b[0m \u001b[0mself\u001b[0m\u001b[0;34m.\u001b[0m\u001b[0m_make_engine\u001b[0m\u001b[0;34m(\u001b[0m\u001b[0mf\u001b[0m\u001b[0;34m,\u001b[0m \u001b[0mself\u001b[0m\u001b[0;34m.\u001b[0m\u001b[0mengine\u001b[0m\u001b[0;34m)\u001b[0m\u001b[0;34m\u001b[0m\u001b[0;34m\u001b[0m\u001b[0m\n\u001b[0m\u001b[1;32m    933\u001b[0m \u001b[0;34m\u001b[0m\u001b[0m\n\u001b[1;32m    934\u001b[0m     \u001b[0;32mdef\u001b[0m \u001b[0mclose\u001b[0m\u001b[0;34m(\u001b[0m\u001b[0mself\u001b[0m\u001b[0;34m)\u001b[0m\u001b[0;34m:\u001b[0m\u001b[0;34m\u001b[0m\u001b[0;34m\u001b[0m\u001b[0m\n",
            "\u001b[0;32m/usr/local/lib/python3.9/dist-packages/pandas/io/parsers/readers.py\u001b[0m in \u001b[0;36m_make_engine\u001b[0;34m(self, f, engine)\u001b[0m\n\u001b[1;32m   1214\u001b[0m             \u001b[0;31m# \"Union[str, PathLike[str], ReadCsvBuffer[bytes], ReadCsvBuffer[str]]\"\u001b[0m\u001b[0;34m\u001b[0m\u001b[0;34m\u001b[0m\u001b[0m\n\u001b[1;32m   1215\u001b[0m             \u001b[0;31m# , \"str\", \"bool\", \"Any\", \"Any\", \"Any\", \"Any\", \"Any\"\u001b[0m\u001b[0;34m\u001b[0m\u001b[0;34m\u001b[0m\u001b[0m\n\u001b[0;32m-> 1216\u001b[0;31m             self.handles = get_handle(  # type: ignore[call-overload]\n\u001b[0m\u001b[1;32m   1217\u001b[0m                 \u001b[0mf\u001b[0m\u001b[0;34m,\u001b[0m\u001b[0;34m\u001b[0m\u001b[0;34m\u001b[0m\u001b[0m\n\u001b[1;32m   1218\u001b[0m                 \u001b[0mmode\u001b[0m\u001b[0;34m,\u001b[0m\u001b[0;34m\u001b[0m\u001b[0;34m\u001b[0m\u001b[0m\n",
            "\u001b[0;32m/usr/local/lib/python3.9/dist-packages/pandas/io/common.py\u001b[0m in \u001b[0;36mget_handle\u001b[0;34m(path_or_buf, mode, encoding, compression, memory_map, is_text, errors, storage_options)\u001b[0m\n\u001b[1;32m    784\u001b[0m         \u001b[0;32mif\u001b[0m \u001b[0mioargs\u001b[0m\u001b[0;34m.\u001b[0m\u001b[0mencoding\u001b[0m \u001b[0;32mand\u001b[0m \u001b[0;34m\"b\"\u001b[0m \u001b[0;32mnot\u001b[0m \u001b[0;32min\u001b[0m \u001b[0mioargs\u001b[0m\u001b[0;34m.\u001b[0m\u001b[0mmode\u001b[0m\u001b[0;34m:\u001b[0m\u001b[0;34m\u001b[0m\u001b[0;34m\u001b[0m\u001b[0m\n\u001b[1;32m    785\u001b[0m             \u001b[0;31m# Encoding\u001b[0m\u001b[0;34m\u001b[0m\u001b[0;34m\u001b[0m\u001b[0m\n\u001b[0;32m--> 786\u001b[0;31m             handle = open(\n\u001b[0m\u001b[1;32m    787\u001b[0m                 \u001b[0mhandle\u001b[0m\u001b[0;34m,\u001b[0m\u001b[0;34m\u001b[0m\u001b[0;34m\u001b[0m\u001b[0m\n\u001b[1;32m    788\u001b[0m                 \u001b[0mioargs\u001b[0m\u001b[0;34m.\u001b[0m\u001b[0mmode\u001b[0m\u001b[0;34m,\u001b[0m\u001b[0;34m\u001b[0m\u001b[0;34m\u001b[0m\u001b[0m\n",
            "\u001b[0;31mFileNotFoundError\u001b[0m: [Errno 2] No such file or directory: '/content/drive/MyDrive/Neural Computing Coursework/bank_data_preprocessed.csv'"
          ]
        }
      ],
      "source": [
        "bank_df = pd.read_csv('/content/drive/MyDrive/Neural Computing Coursework/bank_data_preprocessed.csv')\n",
        "bank_df"
      ],
      "id": "Z_ujFNUsUoS_"
    },
    {
      "cell_type": "markdown",
      "metadata": {
        "id": "kHGTql15U4ba"
      },
      "source": [
        "Split the dataset into Train/Test (Using Correlation Matrix >0.1 Corr)"
      ],
      "id": "kHGTql15U4ba"
    },
    {
      "cell_type": "code",
      "execution_count": null,
      "metadata": {
        "id": "ZMj_hocnU3iP"
      },
      "outputs": [],
      "source": [
        "X = torch.tensor(bank_df.drop(columns = {\"RowNumber\", \"CustomerId\", \"CreditScore\", \"Tenure\", \"NumOfProducts\", \"HasCrCard\", \"EstimatedSalary\", \"Surname\", \"Geography\", \"Exited\"}, axis = 1).values, dtype = torch.float)\n",
        "y = torch.tensor(bank_df[\"Exited\"].astype(np.float32))"
      ],
      "id": "ZMj_hocnU3iP"
    },
    {
      "cell_type": "code",
      "execution_count": null,
      "metadata": {
        "colab": {
          "base_uri": "https://localhost:8080/"
        },
        "id": "6Yn6HLBL-uup",
        "outputId": "d53680a3-0d4b-4796-dfef-a3b4c2e9bc81"
      },
      "outputs": [
        {
          "name": "stdout",
          "output_type": "stream",
          "text": [
            "torch.Size([10000, 5]) torch.Size([10000])\n"
          ]
        }
      ],
      "source": [
        "print(X.shape, y.shape)"
      ],
      "id": "6Yn6HLBL-uup"
    },
    {
      "cell_type": "code",
      "execution_count": null,
      "metadata": {
        "id": "rTWs7OO9ZHFt"
      },
      "outputs": [],
      "source": [
        "from sklearn.model_selection import train_test_split\n",
        "X_train, X_test, y_train, y_test = train_test_split(X, y, test_size = 0.3, random_state = 10)"
      ],
      "id": "rTWs7OO9ZHFt"
    },
    {
      "cell_type": "code",
      "execution_count": null,
      "metadata": {
        "id": "51c0kxmO-28B"
      },
      "outputs": [],
      "source": [
        "train_data = TensorDataset(X_train, y_train)\n",
        "test_data = TensorDataset(X_test, y_test)"
      ],
      "id": "51c0kxmO-28B"
    },
    {
      "cell_type": "code",
      "execution_count": null,
      "metadata": {
        "id": "tozzuja3ALtI"
      },
      "outputs": [],
      "source": [
        "train_loader = DataLoader(train_data, shuffle = True, batch_size = 12)\n",
        "test_loader = DataLoader(test_data, shuffle = True, batch_size = len(test_data.tensors[0]))"
      ],
      "id": "tozzuja3ALtI"
    },
    {
      "cell_type": "code",
      "execution_count": null,
      "metadata": {
        "colab": {
          "base_uri": "https://localhost:8080/"
        },
        "id": "90HY760LAx06",
        "outputId": "27baf964-17bb-461a-b097-aecb71445933"
      },
      "outputs": [
        {
          "name": "stdout",
          "output_type": "stream",
          "text": [
            "Training data batches:\n",
            "torch.Size([3000, 5]) torch.Size([3000])\n"
          ]
        }
      ],
      "source": [
        "print(\"Training data batches:\")\n",
        "#for X,y in train_loader:\n",
        "#  print(X.shape, y.shape)\n",
        "\n",
        "for X,y in test_loader:\n",
        "  print(X.shape, y.shape)"
      ],
      "id": "90HY760LAx06"
    },
    {
      "cell_type": "code",
      "execution_count": null,
      "metadata": {
        "id": "Ix18q_q1jUfw"
      },
      "outputs": [],
      "source": [
        "# #tensor_ = torch.from_numpy(df.to_numpy().astype(np.float32))\n",
        "# tensor_X_train = torch.from_numpy(X_train.to_numpy().astype(np.float32))\n",
        "# tensor_X_test = torch.from_numpy(X_test.to_numpy().astype(np.float32))\n",
        "# tensor_y_train = torch.from_numpy(y_train.to_numpy().astype(np.float32))\n",
        "# tensor_y_test = torch.from_numpy(y_test.to_numpy().astype(np.float32))\n"
      ],
      "id": "Ix18q_q1jUfw"
    },
    {
      "cell_type": "code",
      "execution_count": null,
      "metadata": {
        "colab": {
          "base_uri": "https://localhost:8080/"
        },
        "id": "pkNqwEpl-VXa",
        "outputId": "ab50ee4f-b581-41a5-f204-abeee4aff96d"
      },
      "outputs": [
        {
          "data": {
            "text/plain": [
              "<torch.utils.data.dataloader.DataLoader at 0x7fcfa40bcd60>"
            ]
          },
          "execution_count": 10,
          "metadata": {},
          "output_type": "execute_result"
        }
      ],
      "source": [
        "test_loader"
      ],
      "id": "pkNqwEpl-VXa"
    },
    {
      "cell_type": "markdown",
      "metadata": {
        "id": "w3izhPWN6WVR"
      },
      "source": [
        "Creating Model"
      ],
      "id": "w3izhPWN6WVR"
    },
    {
      "cell_type": "code",
      "execution_count": null,
      "metadata": {
        "id": "HfGiUIrDdRmm"
      },
      "outputs": [],
      "source": [
        "import torch.nn as nn\n",
        "class PoleNN(nn.Module):\n",
        "  def __init__(self):\n",
        "    super(PoleNN, self).__init__()\n",
        "    # Modify the number of neurons in the hidden layer\n",
        "    self.fc1 = nn.Linear(5, 8)\n",
        "    self.fc2 = nn.Linear(8, 1)\n",
        "    #Modify the activation functions\n",
        "    self.sigmoid = torch.nn.Sigmoid()\n",
        "    #self.relu = torch.nn.ReLU()\n",
        "    #self.tanh = torch.nn.Tanh()\n",
        "    #self.LeakyReLU\n",
        "\n",
        "  def forward(self, x):\n",
        "    hidden = self.fc1(x)\n",
        "    hidden = self.sigmoid(hidden)\n",
        "    output = self.fc2(hidden)\n",
        "    return output"
      ],
      "id": "HfGiUIrDdRmm"
    },
    {
      "cell_type": "code",
      "execution_count": null,
      "metadata": {
        "id": "J_qPJApSdz7s"
      },
      "outputs": [],
      "source": [
        "pole_model = PoleNN()"
      ],
      "id": "J_qPJApSdz7s"
    },
    {
      "cell_type": "markdown",
      "metadata": {
        "id": "M7SfTQJAR0S9"
      },
      "source": [
        "Specifying our error loss function. We also have our optimizer where we can specify our learning rate."
      ],
      "id": "M7SfTQJAR0S9"
    },
    {
      "cell_type": "code",
      "execution_count": null,
      "metadata": {
        "id": "vnCbYtt2RyMj"
      },
      "outputs": [],
      "source": [
        "#Loss Function - changing the loss functions\n",
        "criterion = torch.nn.MSELoss()\n",
        "#criterion = torch.nn.L1Loss\n",
        "#criterion = torch.nn.CrossEntropyLoss"
      ],
      "id": "vnCbYtt2RyMj"
    },
    {
      "cell_type": "code",
      "execution_count": null,
      "metadata": {
        "id": "9Ky_Z2uJUhS_"
      },
      "outputs": [],
      "source": [
        "#Modify the learning rate\n",
        "learning_rate = 0.25"
      ],
      "id": "9Ky_Z2uJUhS_"
    },
    {
      "cell_type": "code",
      "execution_count": null,
      "metadata": {
        "id": "8n9JQNhLRXIp"
      },
      "outputs": [],
      "source": [
        "optimizer = torch.optim.SGD(pole_model.parameters(), lr = learning_rate)\n",
        "#optimizer = torch.optim.Adam([var1, var2], lr=0.00001)"
      ],
      "id": "8n9JQNhLRXIp"
    },
    {
      "cell_type": "code",
      "execution_count": null,
      "metadata": {
        "id": "v9XC8-qOVh-B"
      },
      "outputs": [],
      "source": [
        "pole_model.train()\n",
        "num_epochs = 100\n",
        "train_accuracies, test_accuracies = [], []\n",
        "loss_list = []\n",
        "epoch_list = []\n",
        "accuracy_list = []\n",
        "training_times = []\n",
        "\n",
        "final_start_time = time.time()\n",
        "for epoch in range(num_epochs):\n",
        "    start_time = time.time()\n",
        "    for X, y in train_loader:\n",
        "      preds = pole_model(X)\n",
        "      pred_labels = torch.argmax(preds, axis = 1)\n",
        "      #y_pred = pole_model(X_train)\n",
        "      loss = criterion(preds, y)\n",
        "      #print('Epoch {}: train loss: {}'.format(epoch, loss.item()))\n",
        "      optimizer.zero_grad()\n",
        "      loss.backward()\n",
        "      optimizer.step()\n",
        "    end_time = time.time()\n",
        "    epoch_time = end_time - start_time\n",
        "    training_times.append(epoch_time)\n",
        "    train_accuracies.append(\n",
        "        100 * torch.mean((pred_labels == y).float()).item()\n",
        "    )\n",
        "\n",
        "    #correct += (y_pred == tensor_y_train).float().sum()\n",
        "\n",
        "    #accuracy = 100 * correct / len(tensor_y_train)\n",
        "\n",
        "#Test set - to find test accuracies\n",
        "    X, y = next(iter(test_loader))\n",
        "\n",
        "    pred_labels = torch.argmax(pole_model(X), axis=1)\n",
        "\n",
        "    test_accuracies.append(\n",
        "        100 * torch.mean((pred_labels == y).float()).item()\n",
        "    )\n",
        "\n",
        "# with torch.no_grad():\n",
        "#     y_pred = pole_model(tensor_X_test)\n",
        "#     predicted_labels = torch.argmax(y_pred, dim=1)\n",
        "#     correct = (predicted_labels == tensor_y_test).sum().item()\n",
        "#     accuracy = 100 * correct / len(tensor_y_test)\n",
        "#     accuracy_list.append(accuracy)\n",
        "\n",
        "    loss_list.append(loss.item())\n",
        "    epoch_list.append(epoch)\n",
        "\n",
        "final_end_time = time.time()\n",
        "  #  print('Epoch {}: train loss: {}, test accuracy: {}%'.format(epoch, loss.item()))\n",
        "\n",
        "final_time = final_end_time - final_start_time"
      ],
      "id": "v9XC8-qOVh-B"
    },
    {
      "cell_type": "code",
      "execution_count": null,
      "metadata": {
        "colab": {
          "background_save": true
        },
        "id": "pHN73GEkJvaA",
        "outputId": "dba0f179-bc67-4be4-fee8-bbd18102711b"
      },
      "outputs": [
        {
          "data": {
            "text/plain": [
              "53.332656145095825"
            ]
          },
          "execution_count": 49,
          "metadata": {},
          "output_type": "execute_result"
        }
      ],
      "source": [
        "final_time"
      ],
      "id": "pHN73GEkJvaA"
    },
    {
      "cell_type": "code",
      "execution_count": null,
      "metadata": {
        "colab": {
          "base_uri": "https://localhost:8080/"
        },
        "id": "fDLmN3i7OM7W",
        "outputId": "79477307-ca58-4d20-a275-0b057eb347fc"
      },
      "outputs": [
        {
          "data": {
            "text/plain": [
              "200"
            ]
          },
          "execution_count": 17,
          "metadata": {},
          "output_type": "execute_result"
        }
      ],
      "source": [
        "len(training_times)"
      ],
      "id": "fDLmN3i7OM7W"
    },
    {
      "cell_type": "code",
      "execution_count": null,
      "metadata": {
        "colab": {
          "base_uri": "https://localhost:8080/",
          "height": 297
        },
        "id": "6nViTlynLdXJ",
        "outputId": "710c2a7b-4be8-4e82-caf4-c0a3c0b12a21"
      },
      "outputs": [
        {
          "data": {
            "image/png": "[encoded data removed]",
            "text/plain": [
              "<Figure size 432x288 with 2 Axes>"
            ]
          },
          "metadata": {},
          "output_type": "display_data"
        }
      ],
      "source": [
        "fig = plt.figure(tight_layout=True)\n",
        "gs = gridspec.GridSpec(nrows=2, ncols=1)\n",
        "\n",
        "ax = fig.add_subplot(gs[0, 0])\n",
        "ax.plot(train_accuracies)\n",
        "ax.set_xlabel(\"Epoch\")\n",
        "ax.set_ylabel(\"Training Accuracies\")\n",
        "\n",
        "ax = fig.add_subplot(gs[1, 0])\n",
        "ax.plot(test_accuracies)\n",
        "ax.set_xlabel(\"Epoch\")\n",
        "ax.set_ylabel(\"Test Accuracies\")\n",
        "\n",
        "fig.align_labels()\n",
        "plt.show()"
      ],
      "id": "6nViTlynLdXJ"
    },
    {
      "cell_type": "code",
      "execution_count": null,
      "metadata": {
        "colab": {
          "base_uri": "https://localhost:8080/",
          "height": 297
        },
        "id": "mbmLtlq5PK_u",
        "outputId": "8178de3e-f944-4998-f28d-a703059713d7"
      },
      "outputs": [
        {
          "data": {
            "text/plain": [
              "Text(0, 0.5, 'Training times')"
            ]
          },
          "execution_count": 33,
          "metadata": {},
          "output_type": "execute_result"
        },
        {
          "data": {
            "image/png": "[encoded data removed]",
            "text/plain": [
              "<Figure size 432x288 with 1 Axes>"
            ]
          },
          "metadata": {},
          "output_type": "display_data"
        }
      ],
      "source": [
        "plt.plot(epoch_list, training_times)\n",
        "plt.xlabel(\"Epochs\")\n",
        "plt.ylabel(\"Training times\")"
      ],
      "id": "mbmLtlq5PK_u"
    },
    {
      "cell_type": "code",
      "execution_count": null,
      "metadata": {
        "colab": {
          "base_uri": "https://localhost:8080/",
          "height": 297
        },
        "id": "H0xWPfsIU3dS",
        "outputId": "27307818-b7a7-448f-9154-3b95504eded2"
      },
      "outputs": [
        {
          "data": {
            "text/plain": [
              "Text(0, 0.5, 'Losses')"
            ]
          },
          "execution_count": 34,
          "metadata": {},
          "output_type": "execute_result"
        },
        {
          "data": {
            "image/png": "[encoded data removed]",
            "text/plain": [
              "<Figure size 432x288 with 1 Axes>"
            ]
          },
          "metadata": {},
          "output_type": "display_data"
        }
      ],
      "source": [
        "plt.plot(epoch_list, loss_list)\n",
        "plt.xlabel(\"Epochs\")\n",
        "plt.ylabel(\"Losses\")"
      ],
      "id": "H0xWPfsIU3dS"
    },
    {
      "cell_type": "code",
      "execution_count": null,
      "metadata": {
        "id": "_3CLKqiv8LEj"
      },
      "outputs": [],
      "source": [
        "def calc_error(mdl: torch.nn.Module, X: torch.Tensor, Y):\n",
        "    # acc == (true != mdl(x).max(1).item() / true.size(0)\n",
        "    train_acc = calc_accuracy(mdl, X, Y)\n",
        "    train_err = 1.0 - train_acc\n",
        "    return train_err\n",
        "\n",
        "def calc_accuracy(mdl: torch.nn.Module, X: torch.Tensor, Y: torch.Tensor) -> float:\n",
        "    \"\"\"\n",
        "    Get the accuracy with respect to the most likely label\n",
        "\n",
        "    :param mdl:\n",
        "    :param X:\n",
        "    :param Y:\n",
        "    :return:\n",
        "    \"\"\"\n",
        "    # get the scores for each class (or logits)\n",
        "    y_logits = mdl(X)  # unnormalized probs\n",
        "    # return the values & indices with the largest value in the dimension where the scores for each class is\n",
        "    # get the scores with largest values & their corresponding idx (so the class that is most likely)\n",
        "    max_scores, max_idx_class = mdl(X).max(dim=1)  # [B, n_classes] -> [B], # get values & indices with the max vals in the dim with scores for each class/label\n",
        "    # usually 0th coordinate is batch size\n",
        "    n = X.size(0)\n",
        "    assert( n == max_idx_class.size(0))\n",
        "    # calulate acc (note .item() to do float division)\n",
        "    acc = (max_idx_class == Y).sum().item() / n\n",
        "    return acc\n"
      ],
      "id": "_3CLKqiv8LEj"
    },
    {
      "cell_type": "code",
      "execution_count": null,
      "metadata": {
        "colab": {
          "base_uri": "https://localhost:8080/"
        },
        "id": "_wz6aiJS8NUb",
        "outputId": "1fb067e8-abf2-4912-c454-05000e8301b5"
      },
      "outputs": [
        {
          "data": {
            "text/plain": [
              "0.2024285714285714"
            ]
          },
          "execution_count": 35,
          "metadata": {},
          "output_type": "execute_result"
        }
      ],
      "source": [
        "calc_error(pole_model, X_train, y_train)"
      ],
      "id": "_wz6aiJS8NUb"
    },
    {
      "cell_type": "code",
      "execution_count": null,
      "metadata": {
        "colab": {
          "base_uri": "https://localhost:8080/"
        },
        "id": "yTbqroIC8VNs",
        "outputId": "96ad539c-d1c5-41db-f11d-0f7a65a56a49"
      },
      "outputs": [
        {
          "data": {
            "text/plain": [
              "0.7933333333333333"
            ]
          },
          "execution_count": 36,
          "metadata": {},
          "output_type": "execute_result"
        }
      ],
      "source": [
        "calc_accuracy(pole_model, X_test, y_test)"
      ],
      "id": "yTbqroIC8VNs"
    },
    {
      "cell_type": "code",
      "execution_count": null,
      "metadata": {
        "id": "KCpiVwPO1pX-"
      },
      "outputs": [],
      "source": [
        "test_accuracies = [0.793]\n",
        "#0.793 for learning rate 0.01, sigmoid activation function, 6 neurons in hidden layer\n",
        "#      for learning rate 0.01, sigmoid activation function, 6 neurons in hidden layer"
      ],
      "id": "KCpiVwPO1pX-"
    }
  ],
  "metadata": {
    "colab": {
      "provenance": []
    },
    "kernelspec": {
      "display_name": "Python 3 (ipykernel)",
      "language": "python",
      "name": "python3"
    },
    "language_info": {
      "codemirror_mode": {
        "name": "ipython",
        "version": 3
      },
      "file_extension": ".py",
      "mimetype": "text/x-python",
      "name": "python",
      "nbconvert_exporter": "python",
      "pygments_lexer": "ipython3",
      "version": "3.8.13"
    },
    "toc": {
      "base_numbering": 1,
      "nav_menu": {},
      "number_sections": true,
      "sideBar": true,
      "skip_h1_title": false,
      "title_cell": "Table of Contents",
      "title_sidebar": "Contents",
      "toc_cell": false,
      "toc_position": {},
      "toc_section_display": true,
      "toc_window_display": false
    }
  },
  "nbformat": 4,
  "nbformat_minor": 5
}